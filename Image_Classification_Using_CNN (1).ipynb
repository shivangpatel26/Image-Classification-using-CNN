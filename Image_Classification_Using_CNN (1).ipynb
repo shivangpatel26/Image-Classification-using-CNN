{
  "nbformat": 4,
  "nbformat_minor": 0,
  "metadata": {
    "colab": {
      "provenance": [],
      "gpuType": "A100",
      "machine_shape": "hm"
    },
    "kernelspec": {
      "name": "python3",
      "display_name": "Python 3"
    },
    "language_info": {
      "name": "python"
    },
    "accelerator": "GPU"
  },
  "cells": [
    {
      "cell_type": "code",
      "execution_count": 1,
      "metadata": {
        "colab": {
          "base_uri": "https://localhost:8080/"
        },
        "id": "d9EjhmGh54pD",
        "outputId": "d4fac274-0219-42f9-ba7c-eb91b2097007"
      },
      "outputs": [
        {
          "output_type": "stream",
          "name": "stdout",
          "text": [
            "Sun Nov 10 03:33:47 2024       \n",
            "+---------------------------------------------------------------------------------------+\n",
            "| NVIDIA-SMI 535.104.05             Driver Version: 535.104.05   CUDA Version: 12.2     |\n",
            "|-----------------------------------------+----------------------+----------------------+\n",
            "| GPU  Name                 Persistence-M | Bus-Id        Disp.A | Volatile Uncorr. ECC |\n",
            "| Fan  Temp   Perf          Pwr:Usage/Cap |         Memory-Usage | GPU-Util  Compute M. |\n",
            "|                                         |                      |               MIG M. |\n",
            "|=========================================+======================+======================|\n",
            "|   0  NVIDIA A100-SXM4-40GB          Off | 00000000:00:04.0 Off |                    0 |\n",
            "| N/A   32C    P0              48W / 400W |      2MiB / 40960MiB |      0%      Default |\n",
            "|                                         |                      |             Disabled |\n",
            "+-----------------------------------------+----------------------+----------------------+\n",
            "                                                                                         \n",
            "+---------------------------------------------------------------------------------------+\n",
            "| Processes:                                                                            |\n",
            "|  GPU   GI   CI        PID   Type   Process name                            GPU Memory |\n",
            "|        ID   ID                                                             Usage      |\n",
            "|=======================================================================================|\n",
            "|  No running processes found                                                           |\n",
            "+---------------------------------------------------------------------------------------+\n"
          ]
        }
      ],
      "source": [
        "!nvidia-smi"
      ]
    },
    {
      "cell_type": "code",
      "source": [
        "from google.colab import drive\n",
        "drive.mount('/content/drive', force_remount=True)"
      ],
      "metadata": {
        "colab": {
          "base_uri": "https://localhost:8080/"
        },
        "id": "Z7DezOZD6rBe",
        "outputId": "9a91bdc5-2ef9-436d-c62a-423ee74666f5"
      },
      "execution_count": 2,
      "outputs": [
        {
          "output_type": "stream",
          "name": "stdout",
          "text": [
            "Mounted at /content/drive\n"
          ]
        }
      ]
    },
    {
      "cell_type": "code",
      "source": [
        "%cd /content/drive/MyDrive/Colab Notebooks/CNN"
      ],
      "metadata": {
        "id": "nOIvWwVw6zmx",
        "colab": {
          "base_uri": "https://localhost:8080/"
        },
        "outputId": "8ce45d74-594b-42c4-ffa4-9bdd6c6a325e"
      },
      "execution_count": 3,
      "outputs": [
        {
          "output_type": "stream",
          "name": "stdout",
          "text": [
            "/content/drive/MyDrive/Colab Notebooks/CNN\n"
          ]
        }
      ]
    },
    {
      "cell_type": "code",
      "source": [
        "import torch\n",
        "import torchvision\n",
        "from torchvision import transforms as transforms\n",
        "from torch import nn\n",
        "from torch.nn import functional as F\n",
        "from torch.utils.tensorboard import SummaryWriter\n",
        "import random"
      ],
      "metadata": {
        "id": "EWu50nDO75rn"
      },
      "execution_count": 4,
      "outputs": []
    },
    {
      "cell_type": "code",
      "source": [
        "from torchvision import datasets\n",
        "\n",
        "transform_train = torchvision.transforms.Compose([\n",
        "    torchvision.transforms.Resize(224),\n",
        "    torchvision.transforms.RandomHorizontalFlip(),\n",
        "    torchvision.transforms.ToTensor(),\n",
        "    torchvision.transforms.Normalize([0.4914, 0.4822, 0.4465],\n",
        "                                     [0.2023, 0.1994, 0.2010])])\n",
        "\n",
        "transform_test = torchvision.transforms.Compose([\n",
        "    torchvision.transforms.Resize(224),\n",
        "    torchvision.transforms.ToTensor(),\n",
        "    torchvision.transforms.Normalize([0.4914, 0.4822, 0.4465],\n",
        "                                     [0.2023, 0.1994, 0.2010])])\n",
        "\n",
        "\n",
        "trainset = datasets.CIFAR10(\n",
        "                    root='./data',\n",
        "                    train=True,\n",
        "                    download=True,\n",
        "                    transform=transform_train)\n",
        "\n",
        "\n",
        "\n",
        "testset = datasets.CIFAR10(\n",
        "                    './data',\n",
        "                    train=False,\n",
        "                    download=True,\n",
        "                    transform=transform_test)"
      ],
      "metadata": {
        "colab": {
          "base_uri": "https://localhost:8080/"
        },
        "id": "YRfcOZ5v8cFJ",
        "outputId": "aa4a5dfa-3c0b-40c8-cb22-f9b563dd898b"
      },
      "execution_count": 5,
      "outputs": [
        {
          "output_type": "stream",
          "name": "stdout",
          "text": [
            "Files already downloaded and verified\n",
            "Files already downloaded and verified\n"
          ]
        }
      ]
    },
    {
      "cell_type": "code",
      "source": [
        "trainloader = torch.utils.data.DataLoader(\n",
        "                    trainset,\n",
        "                    batch_size=128,\n",
        "                    shuffle=True,\n",
        "                    num_workers=8)\n",
        "\n",
        "testloader = torch.utils.data.DataLoader(\n",
        "                    testset,\n",
        "                    batch_size=128,\n",
        "                    shuffle=False,\n",
        "                    num_workers=8)\n",
        ""
      ],
      "metadata": {
        "id": "C8tVQkbEWoY6"
      },
      "execution_count": 6,
      "outputs": []
    },
    {
      "cell_type": "code",
      "source": [
        "classes = ('plane', 'car', 'bird', 'cat', 'deer', 'dog', 'frog', 'horse', 'ship', 'truck')"
      ],
      "metadata": {
        "id": "WeZ86MG_-BvK"
      },
      "execution_count": 7,
      "outputs": []
    },
    {
      "cell_type": "markdown",
      "source": [
        "Model 1: ResNet18"
      ],
      "metadata": {
        "id": "PXTdhdYXVC2f"
      }
    },
    {
      "cell_type": "code",
      "source": [
        "class Residual(nn.Module):\n",
        "    def __init__(self, input_channels, num_channels, use_1x1conv = False, strides = 1):\n",
        "        super().__init__()\n",
        "\n",
        "        self.conv1 = nn.Conv2d(\n",
        "            input_channels, num_channels, kernel_size=3, padding=1, stride=strides)\n",
        "        self.conv2 = nn.Conv2d(\n",
        "            num_channels, num_channels, kernel_size=3, padding=1)\n",
        "\n",
        "        if use_1x1conv:\n",
        "            self.conv3 = nn.Conv2d(\n",
        "                input_channels, num_channels, kernel_size=1, stride = strides)\n",
        "        else:\n",
        "            self.conv3 = None\n",
        "\n",
        "        self.bn1 = nn.BatchNorm2d(num_channels)\n",
        "        self.bn2 = nn.BatchNorm2d(num_channels)\n",
        "        self.relu = nn.ReLU(inplace=True)\n",
        "\n",
        "    def forward(self, X):\n",
        "        Y = F.relu(self.bn1(self.conv1(X)))\n",
        "        Y = self.bn2(self.conv2(Y))\n",
        "        if self.conv3:\n",
        "            X = self.conv3(X)\n",
        "        Y += X\n",
        "        return F.relu(Y)"
      ],
      "metadata": {
        "id": "cg9E4x8C-E23"
      },
      "execution_count": 8,
      "outputs": []
    },
    {
      "cell_type": "code",
      "source": [
        "b1 = nn.Sequential(nn.Conv2d(3, 64, kernel_size=7, stride=2, padding=3),\n",
        "                   nn.BatchNorm2d(64), nn.ReLU(),\n",
        "                   nn.MaxPool2d(kernel_size=3, stride=2, padding=1))\n",
        "\n",
        "def resnet_block(input_channels, num_channels, num_residuals, first_block = False):\n",
        "    blk = []\n",
        "    for i in range(num_residuals):\n",
        "        if i == 0 and not first_block:\n",
        "            blk.append(\n",
        "                Residual(input_channels, num_channels, use_1x1conv=True, strides=2))\n",
        "\n",
        "        else:\n",
        "            blk.append(Residual(num_channels, num_channels))\n",
        "    return blk\n",
        "\n",
        "\n",
        "b2 = nn.Sequential(*resnet_block(64, 64, 2, first_block=True))\n",
        "b3 = nn.Sequential(*resnet_block(64, 128, 2))\n",
        "b4 = nn.Sequential(*resnet_block(128, 256, 2))\n",
        "b5 = nn.Sequential(*resnet_block(256, 512, 2))\n",
        "\n",
        "\n",
        "ResNet18 = nn.Sequential(b1, b2, b3, b4, b5,\n",
        "                    nn.AdaptiveAvgPool2d((1,1)),\n",
        "                    nn.Flatten(), nn.Linear(512, 10))"
      ],
      "metadata": {
        "id": "6cYRU1rw-mzJ"
      },
      "execution_count": 9,
      "outputs": []
    },
    {
      "cell_type": "code",
      "source": [
        "X = torch.rand(size=(1, 3, 224, 224))\n",
        "for layer in ResNet18:\n",
        "    X = layer(X)\n",
        "    print(layer.__class__.__name__, 'output shape:\\t', X.shape)"
      ],
      "metadata": {
        "colab": {
          "base_uri": "https://localhost:8080/"
        },
        "id": "8GJ7qzoPVcLB",
        "outputId": "8c50775f-3159-4437-876a-a11cc3eb8a3a"
      },
      "execution_count": 10,
      "outputs": [
        {
          "output_type": "stream",
          "name": "stdout",
          "text": [
            "Sequential output shape:\t torch.Size([1, 64, 56, 56])\n",
            "Sequential output shape:\t torch.Size([1, 64, 56, 56])\n",
            "Sequential output shape:\t torch.Size([1, 128, 28, 28])\n",
            "Sequential output shape:\t torch.Size([1, 256, 14, 14])\n",
            "Sequential output shape:\t torch.Size([1, 512, 7, 7])\n",
            "AdaptiveAvgPool2d output shape:\t torch.Size([1, 512, 1, 1])\n",
            "Flatten output shape:\t torch.Size([1, 512])\n",
            "Linear output shape:\t torch.Size([1, 10])\n"
          ]
        }
      ]
    },
    {
      "cell_type": "markdown",
      "source": [
        "Model 2: VGG11"
      ],
      "metadata": {
        "id": "BxxBSz1fVd_k"
      }
    },
    {
      "cell_type": "code",
      "source": [
        "def vgg_block(num_convs, in_channels, out_channels):\n",
        "    layers = []\n",
        "    for _ in range(num_convs):\n",
        "        layers.append(nn.Conv2d(\n",
        "            in_channels, out_channels, kernel_size = 3, padding=1 ))\n",
        "        layers.append(nn.ReLU())\n",
        "        in_channels = out_channels\n",
        "\n",
        "    layers.append(nn.MaxPool2d(kernel_size=2, stride=2))\n",
        "    return nn.Sequential(*layers)"
      ],
      "metadata": {
        "id": "CvlFOmgxViXy"
      },
      "execution_count": 11,
      "outputs": []
    },
    {
      "cell_type": "code",
      "source": [
        "conv_arch = ((1,64), (1, 128), (2, 256), (2, 512), (2, 512))\n",
        "\n",
        "def vgg(conv_arch):\n",
        "    conv_blks = []\n",
        "    in_channels = 3\n",
        "    for (num_convs, out_channels) in conv_arch:\n",
        "        conv_blks.append(vgg_block(\n",
        "            num_convs, in_channels, out_channels ))\n",
        "        in_channels = out_channels\n",
        "\n",
        "    return nn.Sequential(\n",
        "        *conv_blks, nn.Flatten(),\n",
        "        nn.Linear(out_channels *7*7, 4096), nn.ReLU(),\n",
        "        nn.Dropout(0.5), nn.Linear(4096, 4096), nn.ReLU(),\n",
        "        nn.Dropout(0.5), nn.Linear(4096, 10)\n",
        "    )\n",
        "\n",
        "VGG11Net = vgg(conv_arch)"
      ],
      "metadata": {
        "id": "ciI8sLFcVlu3"
      },
      "execution_count": 12,
      "outputs": []
    },
    {
      "cell_type": "code",
      "source": [
        "X = torch.randn(size=(1, 3, 224, 224))\n",
        "for blk in VGG11Net:\n",
        "    X = blk(X)\n",
        "    print(blk.__class__.__name__, 'output shape \\t', X.shape)"
      ],
      "metadata": {
        "colab": {
          "base_uri": "https://localhost:8080/"
        },
        "id": "LS8PIIXrVrSV",
        "outputId": "f65ab31c-9da5-4bc7-b54c-84d5c0b697da"
      },
      "execution_count": 13,
      "outputs": [
        {
          "output_type": "stream",
          "name": "stdout",
          "text": [
            "Sequential output shape \t torch.Size([1, 64, 112, 112])\n",
            "Sequential output shape \t torch.Size([1, 128, 56, 56])\n",
            "Sequential output shape \t torch.Size([1, 256, 28, 28])\n",
            "Sequential output shape \t torch.Size([1, 512, 14, 14])\n",
            "Sequential output shape \t torch.Size([1, 512, 7, 7])\n",
            "Flatten output shape \t torch.Size([1, 25088])\n",
            "Linear output shape \t torch.Size([1, 4096])\n",
            "ReLU output shape \t torch.Size([1, 4096])\n",
            "Dropout output shape \t torch.Size([1, 4096])\n",
            "Linear output shape \t torch.Size([1, 4096])\n",
            "ReLU output shape \t torch.Size([1, 4096])\n",
            "Dropout output shape \t torch.Size([1, 4096])\n",
            "Linear output shape \t torch.Size([1, 10])\n"
          ]
        }
      ]
    },
    {
      "cell_type": "markdown",
      "source": [
        "Model 3: AlexNet"
      ],
      "metadata": {
        "id": "6M8HJPTdVt0_"
      }
    },
    {
      "cell_type": "code",
      "source": [
        "AlexNet = nn.Sequential(\n",
        "    nn.Conv2d(3, 96, kernel_size=11, stride=4, padding=1), nn.ReLU(),\n",
        "    nn.MaxPool2d(kernel_size=3, stride=2),\n",
        "    nn.Conv2d(96, 256, kernel_size=5, padding=2), nn.ReLU(),\n",
        "    nn.MaxPool2d(kernel_size=3, stride=2),\n",
        "    nn.Conv2d(256, 384, kernel_size=3, padding=1), nn.ReLU(),\n",
        "    nn.Conv2d(384, 384, kernel_size=3, padding=1), nn.ReLU(),\n",
        "    nn.Conv2d(384, 256, kernel_size=3, padding=1), nn.ReLU(),\n",
        "    nn.MaxPool2d(kernel_size=3, stride=2), nn.Flatten(),\n",
        "    nn.Linear(6400, 4096), nn.ReLU(), nn.Dropout(p=0.5),\n",
        "    nn.Linear(4096, 4096), nn.ReLU(), nn.Dropout(p=0.5),\n",
        "    nn.Linear(4096, 10))"
      ],
      "metadata": {
        "id": "8R125YRZVtjU"
      },
      "execution_count": 14,
      "outputs": []
    },
    {
      "cell_type": "code",
      "source": [
        "X = torch.randn(1, 3, 224, 224)\n",
        "for layer in AlexNet:\n",
        "    X = layer(X)\n",
        "    print(layer.__class__.__name__, 'Output shape:\\t', X.shape)"
      ],
      "metadata": {
        "colab": {
          "base_uri": "https://localhost:8080/"
        },
        "id": "TRF9wdcTVyVV",
        "outputId": "e9be30f5-ab1f-4e97-d8ae-2110f145ac09"
      },
      "execution_count": 15,
      "outputs": [
        {
          "output_type": "stream",
          "name": "stdout",
          "text": [
            "Conv2d Output shape:\t torch.Size([1, 96, 54, 54])\n",
            "ReLU Output shape:\t torch.Size([1, 96, 54, 54])\n",
            "MaxPool2d Output shape:\t torch.Size([1, 96, 26, 26])\n",
            "Conv2d Output shape:\t torch.Size([1, 256, 26, 26])\n",
            "ReLU Output shape:\t torch.Size([1, 256, 26, 26])\n",
            "MaxPool2d Output shape:\t torch.Size([1, 256, 12, 12])\n",
            "Conv2d Output shape:\t torch.Size([1, 384, 12, 12])\n",
            "ReLU Output shape:\t torch.Size([1, 384, 12, 12])\n",
            "Conv2d Output shape:\t torch.Size([1, 384, 12, 12])\n",
            "ReLU Output shape:\t torch.Size([1, 384, 12, 12])\n",
            "Conv2d Output shape:\t torch.Size([1, 256, 12, 12])\n",
            "ReLU Output shape:\t torch.Size([1, 256, 12, 12])\n",
            "MaxPool2d Output shape:\t torch.Size([1, 256, 5, 5])\n",
            "Flatten Output shape:\t torch.Size([1, 6400])\n",
            "Linear Output shape:\t torch.Size([1, 4096])\n",
            "ReLU Output shape:\t torch.Size([1, 4096])\n",
            "Dropout Output shape:\t torch.Size([1, 4096])\n",
            "Linear Output shape:\t torch.Size([1, 4096])\n",
            "ReLU Output shape:\t torch.Size([1, 4096])\n",
            "Dropout Output shape:\t torch.Size([1, 4096])\n",
            "Linear Output shape:\t torch.Size([1, 10])\n"
          ]
        }
      ]
    },
    {
      "cell_type": "markdown",
      "source": [
        "Training"
      ],
      "metadata": {
        "id": "VBHPfFpVWQnW"
      }
    },
    {
      "cell_type": "code",
      "source": [
        "%load_ext tensorboard\n",
        "writer = SummaryWriter()"
      ],
      "metadata": {
        "id": "T5w8BKmAWSW0"
      },
      "execution_count": 16,
      "outputs": []
    },
    {
      "cell_type": "code",
      "source": [
        "from tqdm import tqdm\n",
        "\n",
        "def train_one_epoch(model, optimizer, data_loader, device, epoch):\n",
        "    model.train()\n",
        "    loss_function = torch.nn.CrossEntropyLoss()\n",
        "    mean_loss = torch.zeros(1).to(device)\n",
        "    data_loader = tqdm(data_loader)\n",
        "    for step, data in enumerate(data_loader):\n",
        "        images, labels = data\n",
        "        optimizer.zero_grad()\n",
        "        pred = model(images.to(device))\n",
        "\n",
        "        loss = loss_function(pred, labels.to(device))\n",
        "        loss.backward()\n",
        "        mean_loss = (mean_loss * step + loss.detach()) / (step + 1)  # update mean losses\n",
        "\n",
        "        data_loader.desc = \"[epoch {}] Train: mean loss {}\".format(epoch, round(mean_loss.item(), 3))\n",
        "\n",
        "        if not torch.isfinite(loss):\n",
        "            print('WARNING: non-finite loss, ending training ', loss)\n",
        "\n",
        "        optimizer.step()\n",
        "    return mean_loss.item()"
      ],
      "metadata": {
        "id": "yBQJdZc2WVNt"
      },
      "execution_count": 17,
      "outputs": []
    },
    {
      "cell_type": "code",
      "source": [
        "def prediction(model, data_iter, desc=\"prediction\"):\n",
        "    loss_function = torch.nn.CrossEntropyLoss()\n",
        "    correct = 0\n",
        "    total = 0\n",
        "    mean_loss = torch.zeros(1).to(device)\n",
        "    with torch.no_grad():\n",
        "        for step, data in enumerate(data_iter):\n",
        "            images, labels = data[0].to(device), data[1].to(device)\n",
        "            outputs = model(images)\n",
        "            loss = loss_function(outputs, labels.to(device))\n",
        "            _, predicted = torch.max(outputs.data, 1)\n",
        "            total += labels.size(0)\n",
        "            correct += (predicted == labels).sum().item()\n",
        "            mean_loss = (mean_loss * step + loss.detach()) / (step + 1)\n",
        "    acc = 100 * correct // total\n",
        "    print(f'{desc}: Accuracy of the network: {acc} %')\n",
        "    return acc, mean_loss.item()\n",
        "\n",
        "\n",
        "\n",
        "def train(model, train_iter, test_iter, num_epochs, lr, device, name):\n",
        "    optimizer = torch.optim.SGD(model.parameters(), lr=lr, momentum=0.9)\n",
        "    num_batches = len(train_iter)\n",
        "    model = model.to(device)\n",
        "\n",
        "    for epoch in range(num_epochs):\n",
        "        train_one_epoch(model, optimizer, train_iter, device, epoch)\n",
        "\n",
        "        test_acc, test_loss = prediction(model, test_iter, 'test')\n",
        "        train_acc, train_loss = prediction(model, train_iter, 'train')\n",
        "        writer.add_scalars(f'{name}/loss', {\"train\": train_loss, \"test\": test_loss}, epoch)\n",
        "        writer.add_scalars(f'{name}/accuracy', {\"train\": train_acc, \"test\": test_acc}, epoch)\n",
        ""
      ],
      "metadata": {
        "id": "vz5F_iE9WYhl"
      },
      "execution_count": 18,
      "outputs": []
    },
    {
      "cell_type": "code",
      "source": [
        "device = torch.device(\"cuda\" if torch.cuda.is_available() else \"cpu\")\n"
      ],
      "metadata": {
        "id": "ECMthZVeWaed"
      },
      "execution_count": 19,
      "outputs": []
    },
    {
      "cell_type": "code",
      "source": [
        "train(AlexNet, trainloader, testloader, 10, 0.01, device, \"AlexNet\")"
      ],
      "metadata": {
        "colab": {
          "base_uri": "https://localhost:8080/"
        },
        "id": "dtdFcAewWgH7",
        "outputId": "7c260f4b-51b5-4d6d-dd88-0dfd0035ffe8"
      },
      "execution_count": 20,
      "outputs": [
        {
          "output_type": "stream",
          "name": "stderr",
          "text": [
            "[epoch 0] Train: mean loss 1.929: 100%|██████████| 391/391 [00:26<00:00, 14.79it/s]\n"
          ]
        },
        {
          "output_type": "stream",
          "name": "stdout",
          "text": [
            "test: Accuracy of the network: 43 %\n",
            "train: Accuracy of the network: 43 %\n"
          ]
        },
        {
          "output_type": "stream",
          "name": "stderr",
          "text": [
            "[epoch 1] Train: mean loss 1.355: 100%|██████████| 391/391 [00:25<00:00, 15.50it/s]\n"
          ]
        },
        {
          "output_type": "stream",
          "name": "stdout",
          "text": [
            "test: Accuracy of the network: 58 %\n",
            "train: Accuracy of the network: 58 %\n"
          ]
        },
        {
          "output_type": "stream",
          "name": "stderr",
          "text": [
            "[epoch 2] Train: mean loss 1.048: 100%|██████████| 391/391 [00:25<00:00, 15.50it/s]\n"
          ]
        },
        {
          "output_type": "stream",
          "name": "stdout",
          "text": [
            "test: Accuracy of the network: 66 %\n",
            "train: Accuracy of the network: 68 %\n"
          ]
        },
        {
          "output_type": "stream",
          "name": "stderr",
          "text": [
            "[epoch 3] Train: mean loss 0.843: 100%|██████████| 391/391 [00:25<00:00, 15.55it/s]\n"
          ]
        },
        {
          "output_type": "stream",
          "name": "stdout",
          "text": [
            "test: Accuracy of the network: 73 %\n",
            "train: Accuracy of the network: 75 %\n"
          ]
        },
        {
          "output_type": "stream",
          "name": "stderr",
          "text": [
            "[epoch 4] Train: mean loss 0.716: 100%|██████████| 391/391 [00:24<00:00, 15.78it/s]\n"
          ]
        },
        {
          "output_type": "stream",
          "name": "stdout",
          "text": [
            "test: Accuracy of the network: 76 %\n",
            "train: Accuracy of the network: 78 %\n"
          ]
        },
        {
          "output_type": "stream",
          "name": "stderr",
          "text": [
            "[epoch 5] Train: mean loss 0.615: 100%|██████████| 391/391 [00:24<00:00, 15.65it/s]\n"
          ]
        },
        {
          "output_type": "stream",
          "name": "stdout",
          "text": [
            "test: Accuracy of the network: 78 %\n",
            "train: Accuracy of the network: 82 %\n"
          ]
        },
        {
          "output_type": "stream",
          "name": "stderr",
          "text": [
            "[epoch 6] Train: mean loss 0.549: 100%|██████████| 391/391 [00:25<00:00, 15.52it/s]\n"
          ]
        },
        {
          "output_type": "stream",
          "name": "stdout",
          "text": [
            "test: Accuracy of the network: 79 %\n",
            "train: Accuracy of the network: 83 %\n"
          ]
        },
        {
          "output_type": "stream",
          "name": "stderr",
          "text": [
            "[epoch 7] Train: mean loss 0.474: 100%|██████████| 391/391 [00:25<00:00, 15.59it/s]\n"
          ]
        },
        {
          "output_type": "stream",
          "name": "stdout",
          "text": [
            "test: Accuracy of the network: 80 %\n",
            "train: Accuracy of the network: 86 %\n"
          ]
        },
        {
          "output_type": "stream",
          "name": "stderr",
          "text": [
            "[epoch 8] Train: mean loss 0.424: 100%|██████████| 391/391 [00:24<00:00, 15.66it/s]\n"
          ]
        },
        {
          "output_type": "stream",
          "name": "stdout",
          "text": [
            "test: Accuracy of the network: 81 %\n",
            "train: Accuracy of the network: 87 %\n"
          ]
        },
        {
          "output_type": "stream",
          "name": "stderr",
          "text": [
            "[epoch 9] Train: mean loss 0.382: 100%|██████████| 391/391 [00:24<00:00, 15.82it/s]\n"
          ]
        },
        {
          "output_type": "stream",
          "name": "stdout",
          "text": [
            "test: Accuracy of the network: 82 %\n",
            "train: Accuracy of the network: 89 %\n"
          ]
        }
      ]
    },
    {
      "cell_type": "code",
      "source": [
        "train(VGG11Net, trainloader, testloader, 10, 0.01, device, \"VGG11Net\")"
      ],
      "metadata": {
        "colab": {
          "base_uri": "https://localhost:8080/"
        },
        "id": "AaB8mLgtbQli",
        "outputId": "8e24f02e-de47-40dd-9aa6-cf2621e293df"
      },
      "execution_count": 21,
      "outputs": [
        {
          "output_type": "stream",
          "name": "stderr",
          "text": [
            "[epoch 0] Train: mean loss 2.303: 100%|██████████| 391/391 [01:01<00:00,  6.35it/s]\n"
          ]
        },
        {
          "output_type": "stream",
          "name": "stdout",
          "text": [
            "test: Accuracy of the network: 10 %\n",
            "train: Accuracy of the network: 10 %\n"
          ]
        },
        {
          "output_type": "stream",
          "name": "stderr",
          "text": [
            "[epoch 1] Train: mean loss 2.073: 100%|██████████| 391/391 [01:01<00:00,  6.33it/s]\n"
          ]
        },
        {
          "output_type": "stream",
          "name": "stdout",
          "text": [
            "test: Accuracy of the network: 34 %\n",
            "train: Accuracy of the network: 33 %\n"
          ]
        },
        {
          "output_type": "stream",
          "name": "stderr",
          "text": [
            "[epoch 2] Train: mean loss 1.648: 100%|██████████| 391/391 [01:01<00:00,  6.35it/s]\n"
          ]
        },
        {
          "output_type": "stream",
          "name": "stdout",
          "text": [
            "test: Accuracy of the network: 46 %\n",
            "train: Accuracy of the network: 46 %\n"
          ]
        },
        {
          "output_type": "stream",
          "name": "stderr",
          "text": [
            "[epoch 3] Train: mean loss 1.363: 100%|██████████| 391/391 [01:01<00:00,  6.31it/s]\n"
          ]
        },
        {
          "output_type": "stream",
          "name": "stdout",
          "text": [
            "test: Accuracy of the network: 56 %\n",
            "train: Accuracy of the network: 56 %\n"
          ]
        },
        {
          "output_type": "stream",
          "name": "stderr",
          "text": [
            "[epoch 4] Train: mean loss 1.15: 100%|██████████| 391/391 [01:01<00:00,  6.34it/s]\n"
          ]
        },
        {
          "output_type": "stream",
          "name": "stdout",
          "text": [
            "test: Accuracy of the network: 61 %\n",
            "train: Accuracy of the network: 63 %\n"
          ]
        },
        {
          "output_type": "stream",
          "name": "stderr",
          "text": [
            "[epoch 5] Train: mean loss 0.974: 100%|██████████| 391/391 [01:01<00:00,  6.33it/s]\n"
          ]
        },
        {
          "output_type": "stream",
          "name": "stdout",
          "text": [
            "test: Accuracy of the network: 66 %\n",
            "train: Accuracy of the network: 69 %\n"
          ]
        },
        {
          "output_type": "stream",
          "name": "stderr",
          "text": [
            "[epoch 6] Train: mean loss 0.827: 100%|██████████| 391/391 [01:01<00:00,  6.33it/s]\n"
          ]
        },
        {
          "output_type": "stream",
          "name": "stdout",
          "text": [
            "test: Accuracy of the network: 69 %\n",
            "train: Accuracy of the network: 74 %\n"
          ]
        },
        {
          "output_type": "stream",
          "name": "stderr",
          "text": [
            "[epoch 7] Train: mean loss 0.694: 100%|██████████| 391/391 [01:01<00:00,  6.32it/s]\n"
          ]
        },
        {
          "output_type": "stream",
          "name": "stdout",
          "text": [
            "test: Accuracy of the network: 72 %\n",
            "train: Accuracy of the network: 79 %\n"
          ]
        },
        {
          "output_type": "stream",
          "name": "stderr",
          "text": [
            "[epoch 8] Train: mean loss 0.578: 100%|██████████| 391/391 [01:01<00:00,  6.32it/s]\n"
          ]
        },
        {
          "output_type": "stream",
          "name": "stdout",
          "text": [
            "test: Accuracy of the network: 74 %\n",
            "train: Accuracy of the network: 82 %\n"
          ]
        },
        {
          "output_type": "stream",
          "name": "stderr",
          "text": [
            "[epoch 9] Train: mean loss 0.482: 100%|██████████| 391/391 [01:01<00:00,  6.32it/s]\n"
          ]
        },
        {
          "output_type": "stream",
          "name": "stdout",
          "text": [
            "test: Accuracy of the network: 75 %\n",
            "train: Accuracy of the network: 87 %\n"
          ]
        }
      ]
    },
    {
      "cell_type": "code",
      "source": [
        "train(ResNet18, trainloader, testloader, 10, 0.01, device, \"ResNet18\")"
      ],
      "metadata": {
        "colab": {
          "base_uri": "https://localhost:8080/"
        },
        "id": "IyA9TfSHfj1J",
        "outputId": "0328ff66-3879-469a-81f0-ac8435ffc76c"
      },
      "execution_count": 22,
      "outputs": [
        {
          "output_type": "stream",
          "name": "stderr",
          "text": [
            "[epoch 0] Train: mean loss 1.338: 100%|██████████| 391/391 [00:37<00:00, 10.30it/s]\n"
          ]
        },
        {
          "output_type": "stream",
          "name": "stdout",
          "text": [
            "test: Accuracy of the network: 66 %\n",
            "train: Accuracy of the network: 66 %\n"
          ]
        },
        {
          "output_type": "stream",
          "name": "stderr",
          "text": [
            "[epoch 1] Train: mean loss 0.776: 100%|██████████| 391/391 [00:37<00:00, 10.37it/s]\n"
          ]
        },
        {
          "output_type": "stream",
          "name": "stdout",
          "text": [
            "test: Accuracy of the network: 75 %\n",
            "train: Accuracy of the network: 78 %\n"
          ]
        },
        {
          "output_type": "stream",
          "name": "stderr",
          "text": [
            "[epoch 2] Train: mean loss 0.567: 100%|██████████| 391/391 [00:38<00:00, 10.28it/s]\n"
          ]
        },
        {
          "output_type": "stream",
          "name": "stdout",
          "text": [
            "test: Accuracy of the network: 81 %\n",
            "train: Accuracy of the network: 84 %\n"
          ]
        },
        {
          "output_type": "stream",
          "name": "stderr",
          "text": [
            "[epoch 3] Train: mean loss 0.45: 100%|██████████| 391/391 [00:38<00:00, 10.28it/s] \n"
          ]
        },
        {
          "output_type": "stream",
          "name": "stdout",
          "text": [
            "test: Accuracy of the network: 83 %\n",
            "train: Accuracy of the network: 87 %\n"
          ]
        },
        {
          "output_type": "stream",
          "name": "stderr",
          "text": [
            "[epoch 4] Train: mean loss 0.366: 100%|██████████| 391/391 [00:37<00:00, 10.30it/s]\n"
          ]
        },
        {
          "output_type": "stream",
          "name": "stdout",
          "text": [
            "test: Accuracy of the network: 84 %\n",
            "train: Accuracy of the network: 90 %\n"
          ]
        },
        {
          "output_type": "stream",
          "name": "stderr",
          "text": [
            "[epoch 5] Train: mean loss 0.298: 100%|██████████| 391/391 [00:38<00:00, 10.27it/s]\n"
          ]
        },
        {
          "output_type": "stream",
          "name": "stdout",
          "text": [
            "test: Accuracy of the network: 84 %\n",
            "train: Accuracy of the network: 92 %\n"
          ]
        },
        {
          "output_type": "stream",
          "name": "stderr",
          "text": [
            "[epoch 6] Train: mean loss 0.248: 100%|██████████| 391/391 [00:38<00:00, 10.24it/s]\n"
          ]
        },
        {
          "output_type": "stream",
          "name": "stdout",
          "text": [
            "test: Accuracy of the network: 85 %\n",
            "train: Accuracy of the network: 93 %\n"
          ]
        },
        {
          "output_type": "stream",
          "name": "stderr",
          "text": [
            "[epoch 7] Train: mean loss 0.196: 100%|██████████| 391/391 [00:37<00:00, 10.32it/s]\n"
          ]
        },
        {
          "output_type": "stream",
          "name": "stdout",
          "text": [
            "test: Accuracy of the network: 84 %\n",
            "train: Accuracy of the network: 94 %\n"
          ]
        },
        {
          "output_type": "stream",
          "name": "stderr",
          "text": [
            "[epoch 8] Train: mean loss 0.163: 100%|██████████| 391/391 [00:38<00:00, 10.26it/s]\n"
          ]
        },
        {
          "output_type": "stream",
          "name": "stdout",
          "text": [
            "test: Accuracy of the network: 85 %\n",
            "train: Accuracy of the network: 95 %\n"
          ]
        },
        {
          "output_type": "stream",
          "name": "stderr",
          "text": [
            "[epoch 9] Train: mean loss 0.128: 100%|██████████| 391/391 [00:38<00:00, 10.23it/s]\n"
          ]
        },
        {
          "output_type": "stream",
          "name": "stdout",
          "text": [
            "test: Accuracy of the network: 86 %\n",
            "train: Accuracy of the network: 96 %\n"
          ]
        }
      ]
    },
    {
      "cell_type": "markdown",
      "source": [
        "Learning Rate Decay"
      ],
      "metadata": {
        "id": "Pt5jYH9flGJj"
      }
    },
    {
      "cell_type": "code",
      "source": [
        "def train_lr_decay(model, train_iter, test_iter, num_epochs, init_lr, device, name):\n",
        "    num_batches = len(train_iter)\n",
        "    model = model.to(device)\n",
        "\n",
        "    for epoch in range(num_epochs):\n",
        "      decay_lr = init_lr / (epoch * 5.0 + 1)\n",
        "      optimizer = torch.optim.SGD(model.parameters(), lr=decay_lr, momentum=0.9)\n",
        "      train_one_epoch(model, optimizer, train_iter, device, epoch)\n",
        "\n",
        "      test_acc, test_loss = prediction(model, test_iter, 'test')\n",
        "      train_acc, train_loss = prediction(model, train_iter, 'train')\n",
        "      writer.add_scalars(f'{name}/loss', {\"train\": train_loss, \"test\": test_loss}, epoch)\n",
        "      writer.add_scalars(f'{name}/accuracy', {\"train\": train_acc, \"test\": test_acc}, epoch)"
      ],
      "metadata": {
        "id": "qLwlyHT8idEU"
      },
      "execution_count": 23,
      "outputs": []
    },
    {
      "cell_type": "code",
      "source": [
        "train_lr_decay(ResNet18, trainloader, testloader, 10, 0.1, device, \"ResNet18_lr_decay\")"
      ],
      "metadata": {
        "colab": {
          "base_uri": "https://localhost:8080/"
        },
        "id": "6vZm2in8ikAs",
        "outputId": "d559d1a7-05c8-411c-e4e9-fdb1c30f962e"
      },
      "execution_count": 24,
      "outputs": [
        {
          "output_type": "stream",
          "name": "stderr",
          "text": [
            "[epoch 0] Train: mean loss 0.94: 100%|██████████| 391/391 [00:38<00:00, 10.26it/s]\n"
          ]
        },
        {
          "output_type": "stream",
          "name": "stdout",
          "text": [
            "test: Accuracy of the network: 77 %\n",
            "train: Accuracy of the network: 79 %\n"
          ]
        },
        {
          "output_type": "stream",
          "name": "stderr",
          "text": [
            "[epoch 1] Train: mean loss 0.431: 100%|██████████| 391/391 [00:38<00:00, 10.29it/s]\n"
          ]
        },
        {
          "output_type": "stream",
          "name": "stdout",
          "text": [
            "test: Accuracy of the network: 83 %\n",
            "train: Accuracy of the network: 87 %\n"
          ]
        },
        {
          "output_type": "stream",
          "name": "stderr",
          "text": [
            "[epoch 2] Train: mean loss 0.331: 100%|██████████| 391/391 [00:37<00:00, 10.29it/s]\n"
          ]
        },
        {
          "output_type": "stream",
          "name": "stdout",
          "text": [
            "train: Accuracy of the network: 90 %\n"
          ]
        },
        {
          "output_type": "stream",
          "name": "stderr",
          "text": [
            "[epoch 3] Train: mean loss 0.281: 100%|██████████| 391/391 [00:38<00:00, 10.21it/s]\n"
          ]
        },
        {
          "output_type": "stream",
          "name": "stdout",
          "text": [
            "test: Accuracy of the network: 85 %\n",
            "train: Accuracy of the network: 91 %\n"
          ]
        },
        {
          "output_type": "stream",
          "name": "stderr",
          "text": [
            "[epoch 4] Train: mean loss 0.248: 100%|██████████| 391/391 [00:37<00:00, 10.29it/s]\n"
          ]
        },
        {
          "output_type": "stream",
          "name": "stdout",
          "text": [
            "test: Accuracy of the network: 85 %\n",
            "train: Accuracy of the network: 92 %\n"
          ]
        },
        {
          "output_type": "stream",
          "name": "stderr",
          "text": [
            "[epoch 5] Train: mean loss 0.221: 100%|██████████| 391/391 [00:38<00:00, 10.26it/s]\n"
          ]
        },
        {
          "output_type": "stream",
          "name": "stdout",
          "text": [
            "test: Accuracy of the network: 86 %\n",
            "train: Accuracy of the network: 93 %\n"
          ]
        },
        {
          "output_type": "stream",
          "name": "stderr",
          "text": [
            "[epoch 6] Train: mean loss 0.198: 100%|██████████| 391/391 [00:37<00:00, 10.31it/s]\n"
          ]
        },
        {
          "output_type": "stream",
          "name": "stdout",
          "text": [
            "test: Accuracy of the network: 86 %\n",
            "train: Accuracy of the network: 94 %\n"
          ]
        },
        {
          "output_type": "stream",
          "name": "stderr",
          "text": [
            "[epoch 7] Train: mean loss 0.178: 100%|██████████| 391/391 [00:38<00:00, 10.21it/s]\n"
          ]
        },
        {
          "output_type": "stream",
          "name": "stdout",
          "text": [
            "test: Accuracy of the network: 86 %\n",
            "train: Accuracy of the network: 94 %\n"
          ]
        },
        {
          "output_type": "stream",
          "name": "stderr",
          "text": [
            "[epoch 8] Train: mean loss 0.16: 100%|██████████| 391/391 [00:38<00:00, 10.27it/s]\n"
          ]
        },
        {
          "output_type": "stream",
          "name": "stdout",
          "text": [
            "test: Accuracy of the network: 86 %\n",
            "train: Accuracy of the network: 95 %\n"
          ]
        },
        {
          "output_type": "stream",
          "name": "stderr",
          "text": [
            "[epoch 9] Train: mean loss 0.145: 100%|██████████| 391/391 [00:38<00:00, 10.22it/s]\n"
          ]
        },
        {
          "output_type": "stream",
          "name": "stdout",
          "text": [
            "test: Accuracy of the network: 86 %\n",
            "train: Accuracy of the network: 95 %\n"
          ]
        }
      ]
    },
    {
      "cell_type": "markdown",
      "source": [
        "Fine-Tuning"
      ],
      "metadata": {
        "id": "FlRnWA3KlRNb"
      }
    },
    {
      "cell_type": "code",
      "source": [
        "finetune_resnet18 = torchvision.models.resnet18(pretrained = True)\n",
        "finetune_resnet18.fc = nn.Linear(finetune_resnet18.fc.in_features, 10)\n",
        "nn.init.xavier_uniform_(finetune_resnet18.fc.weight)"
      ],
      "metadata": {
        "colab": {
          "base_uri": "https://localhost:8080/"
        },
        "id": "qrNQE7HTlQa9",
        "outputId": "e1ff5296-c2e2-4c2e-9900-438492d957f9"
      },
      "execution_count": 27,
      "outputs": [
        {
          "output_type": "stream",
          "name": "stderr",
          "text": [
            "/usr/local/lib/python3.10/dist-packages/torchvision/models/_utils.py:208: UserWarning: The parameter 'pretrained' is deprecated since 0.13 and may be removed in the future, please use 'weights' instead.\n",
            "  warnings.warn(\n",
            "/usr/local/lib/python3.10/dist-packages/torchvision/models/_utils.py:223: UserWarning: Arguments other than a weight enum or `None` for 'weights' are deprecated since 0.13 and may be removed in the future. The current behavior is equivalent to passing `weights=ResNet18_Weights.IMAGENET1K_V1`. You can also use `weights=ResNet18_Weights.DEFAULT` to get the most up-to-date weights.\n",
            "  warnings.warn(msg)\n",
            "Downloading: \"https://download.pytorch.org/models/resnet18-f37072fd.pth\" to /root/.cache/torch/hub/checkpoints/resnet18-f37072fd.pth\n",
            "100%|██████████| 44.7M/44.7M [00:00<00:00, 190MB/s]\n"
          ]
        },
        {
          "output_type": "execute_result",
          "data": {
            "text/plain": [
              "Parameter containing:\n",
              "tensor([[ 0.0427,  0.0838,  0.0309,  ...,  0.0025, -0.0181, -0.0250],\n",
              "        [ 0.0901, -0.0015, -0.0887,  ..., -0.0802, -0.0355, -0.1047],\n",
              "        [ 0.0463,  0.0037,  0.0928,  ..., -0.0952, -0.0345,  0.0694],\n",
              "        ...,\n",
              "        [-0.0972, -0.0473, -0.0706,  ..., -0.0212,  0.0948,  0.0081],\n",
              "        [ 0.0388, -0.0742,  0.0520,  ..., -0.0227, -0.0164, -0.0566],\n",
              "        [-0.0971, -0.0120, -0.0932,  ..., -0.0089,  0.0280,  0.0141]],\n",
              "       requires_grad=True)"
            ]
          },
          "metadata": {},
          "execution_count": 27
        }
      ]
    },
    {
      "cell_type": "code",
      "source": [
        "train(finetune_resnet18, trainloader, testloader, 10, 0.001, device,\"ResNet18_fine_tune\")"
      ],
      "metadata": {
        "colab": {
          "base_uri": "https://localhost:8080/"
        },
        "id": "aP866NoLohaB",
        "outputId": "20cb739c-7fbe-4d8a-ccc6-9520afc003b4"
      },
      "execution_count": 28,
      "outputs": [
        {
          "output_type": "stream",
          "name": "stderr",
          "text": [
            "[epoch 0] Train: mean loss 0.569: 100%|██████████| 391/391 [00:36<00:00, 10.66it/s]\n"
          ]
        },
        {
          "output_type": "stream",
          "name": "stdout",
          "text": [
            "test: Accuracy of the network: 90 %\n",
            "train: Accuracy of the network: 91 %\n"
          ]
        },
        {
          "output_type": "stream",
          "name": "stderr",
          "text": [
            "[epoch 1] Train: mean loss 0.218: 100%|██████████| 391/391 [00:36<00:00, 10.68it/s]\n"
          ]
        },
        {
          "output_type": "stream",
          "name": "stdout",
          "text": [
            "test: Accuracy of the network: 92 %\n",
            "train: Accuracy of the network: 94 %\n"
          ]
        },
        {
          "output_type": "stream",
          "name": "stderr",
          "text": [
            "[epoch 2] Train: mean loss 0.156: 100%|██████████| 391/391 [00:36<00:00, 10.74it/s]\n"
          ]
        },
        {
          "output_type": "stream",
          "name": "stdout",
          "text": [
            "test: Accuracy of the network: 93 %\n",
            "train: Accuracy of the network: 96 %\n"
          ]
        },
        {
          "output_type": "stream",
          "name": "stderr",
          "text": [
            "[epoch 3] Train: mean loss 0.121: 100%|██████████| 391/391 [00:36<00:00, 10.64it/s]\n"
          ]
        },
        {
          "output_type": "stream",
          "name": "stdout",
          "text": [
            "test: Accuracy of the network: 93 %\n",
            "train: Accuracy of the network: 97 %\n"
          ]
        },
        {
          "output_type": "stream",
          "name": "stderr",
          "text": [
            "[epoch 4] Train: mean loss 0.095: 100%|██████████| 391/391 [00:36<00:00, 10.62it/s]\n"
          ]
        },
        {
          "output_type": "stream",
          "name": "stdout",
          "text": [
            "test: Accuracy of the network: 93 %\n",
            "train: Accuracy of the network: 97 %\n"
          ]
        },
        {
          "output_type": "stream",
          "name": "stderr",
          "text": [
            "[epoch 5] Train: mean loss 0.076: 100%|██████████| 391/391 [00:36<00:00, 10.64it/s]\n"
          ]
        },
        {
          "output_type": "stream",
          "name": "stdout",
          "text": [
            "test: Accuracy of the network: 94 %\n",
            "train: Accuracy of the network: 98 %\n"
          ]
        },
        {
          "output_type": "stream",
          "name": "stderr",
          "text": [
            "[epoch 6] Train: mean loss 0.059: 100%|██████████| 391/391 [00:36<00:00, 10.72it/s]\n"
          ]
        },
        {
          "output_type": "stream",
          "name": "stdout",
          "text": [
            "test: Accuracy of the network: 94 %\n",
            "train: Accuracy of the network: 98 %\n"
          ]
        },
        {
          "output_type": "stream",
          "name": "stderr",
          "text": [
            "[epoch 7] Train: mean loss 0.048: 100%|██████████| 391/391 [00:36<00:00, 10.58it/s]\n"
          ]
        },
        {
          "output_type": "stream",
          "name": "stdout",
          "text": [
            "test: Accuracy of the network: 94 %\n",
            "train: Accuracy of the network: 99 %\n"
          ]
        },
        {
          "output_type": "stream",
          "name": "stderr",
          "text": [
            "[epoch 8] Train: mean loss 0.039: 100%|██████████| 391/391 [00:36<00:00, 10.59it/s]\n"
          ]
        },
        {
          "output_type": "stream",
          "name": "stdout",
          "text": [
            "test: Accuracy of the network: 94 %\n",
            "train: Accuracy of the network: 99 %\n"
          ]
        },
        {
          "output_type": "stream",
          "name": "stderr",
          "text": [
            "[epoch 9] Train: mean loss 0.031: 100%|██████████| 391/391 [00:36<00:00, 10.62it/s]\n"
          ]
        },
        {
          "output_type": "stream",
          "name": "stdout",
          "text": [
            "test: Accuracy of the network: 94 %\n",
            "train: Accuracy of the network: 99 %\n"
          ]
        }
      ]
    }
  ]
}